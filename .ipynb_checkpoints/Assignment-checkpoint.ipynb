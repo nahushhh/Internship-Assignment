{
 "cells": [
  {
   "cell_type": "markdown",
   "id": "46976679",
   "metadata": {},
   "source": [
    "## Necessary Imports\n"
   ]
  },
  {
   "cell_type": "code",
   "execution_count": 1,
   "id": "f954892e",
   "metadata": {},
   "outputs": [],
   "source": [
    "import os\n",
    "import docx2txt\n",
    "import re\n",
    "import win32com.client as win32\n",
    "from win32com.client import constants"
   ]
  },
  {
   "cell_type": "markdown",
   "id": "7b87fd17",
   "metadata": {},
   "source": [
    "## Extracting text from file"
   ]
  },
  {
   "cell_type": "code",
   "execution_count": 36,
   "id": "47edf4c9",
   "metadata": {},
   "outputs": [],
   "source": [
    "def SaveAsDocx (path) :\n",
    "    #Opening MS Word\n",
    "    word = win32.gencache.EnsureDispatch('Word.Application')\n",
    "    doc = word.Documents.Open(path)\n",
    "    doc.Activate()\n",
    "    #Rename path with .docx\n",
    "    new_file_abs = os.path.abspath(path)\n",
    "    new_file_abs = re.sub(r'\\.\\w+$','.docx', new_file_abs)\n",
    "    #Save and Close\n",
    "    word.ActiveDocument.SaveAs (\n",
    "    new_file_abs , FileFormat = constants.wdFormatXMLDocument\n",
    "    )\n",
    "    doc.Close ( False )\n",
    "    print ('done')\n",
    "    return new_file_abs\n",
    "\n",
    "def take_input(path):\n",
    "    extension = path[-1:-5:-1][::-1]\n",
    "    if extension == 'docx':\n",
    "        docx_text = docx2txt.process(path)\n",
    "        return docx_text\n",
    "    elif extension == '.doc':\n",
    "        doc_to_docx_path = SaveAsDocx(path)\n",
    "        doc_text = docx2txt.process(doc_to_docx_path)\n",
    "        return doc_text\n",
    "    else:\n",
    "        return None"
   ]
  },
  {
   "cell_type": "markdown",
   "id": "be035520",
   "metadata": {},
   "source": [
    "## Extracting Phone number"
   ]
  },
  {
   "cell_type": "code",
   "execution_count": 3,
   "id": "683353dd",
   "metadata": {},
   "outputs": [],
   "source": [
    "re1 = re.compile(r'\\(?\\d{3}\\)?[-.\\s]?\\d{3}[-.\\s]?\\d{4}') \n",
    "re2 = re.compile(r'\\(?\\d{3}\\)?\\(?\\d{3}\\)?\\(?\\d{4}\\)?')\n",
    "re3 = re.compile(r'(\\+[0-9]{1,3}[\\s]?\\-?[\\s]?[0-9]{10})')\n",
    "\n",
    "def find_phone(text):\n",
    "    re1 = re.compile(r'\\(?\\d{3}\\)?[-.\\s]?\\d{3}[-.\\s]?\\d{4}') \n",
    "    re2 = re.compile(r'\\(?\\d{3}\\)?\\(?\\d{3}\\)?\\(?\\d{4}\\)?')\n",
    "    re3 = re.compile(r'(\\+[0-9]{1,3}[\\s]?\\-?[\\s]?[0-9]{10})')\n",
    "    number1 = re.findall(re1, text)\n",
    "    print(number1)\n",
    "    if number1 and len(number1)<=1:\n",
    "        phone_no = number1[0]\n",
    "        if text.find(phone_no):\n",
    "            return phone_no\n",
    "        else:\n",
    "            return None\n",
    "    else:\n",
    "        ph1 = number1[0]\n",
    "        ph2 = number1[1]\n",
    "        if text.find(ph1) and text.find(ph2):\n",
    "            return ph1, ph2\n",
    "        else:\n",
    "            return None\n",
    "    number2 = re.findall(re2, text)\n",
    "    print(number2)\n",
    "    if number2 and len(number2)>1:\n",
    "        phone_no = number2[0]\n",
    "        \n",
    "        if text.find(phone_no):\n",
    "            return phone_no\n",
    "        else:\n",
    "            return None\n",
    "    else:\n",
    "        ph1 = number1[0]\n",
    "        ph2 = number1[1]\n",
    "        if text.find(ph1) and text.find(ph2):\n",
    "            return ph1, ph2\n",
    "        else:\n",
    "            return None\n",
    "        \n",
    "    number3 = re.findall(re3, text)\n",
    "    print(number3)\n",
    "    if number3 and len(number3)>1:\n",
    "        phone_no = number3[0]\n",
    "        \n",
    "        if text.find(phone_no):\n",
    "            return phone_no\n",
    "        else:\n",
    "            return None\n",
    "    else:\n",
    "        ph1 = number1[0]\n",
    "        ph2 = number1[1]\n",
    "        if text.find(ph1) and text.find(ph2):\n",
    "            return ph1, ph2\n",
    "        else:\n",
    "            return None\n",
    "    "
   ]
  },
  {
   "cell_type": "markdown",
   "id": "82452fb5",
   "metadata": {},
   "source": [
    "## Extracting Email"
   ]
  },
  {
   "cell_type": "code",
   "execution_count": 93,
   "id": "1e44fea5",
   "metadata": {},
   "outputs": [],
   "source": [
    "reg_ex_email = re.compile(r'[a-z 0-9]+[\\._]?[a-z 0-9]+[@]\\w+[.]\\w{2,3}')\n",
    "\n",
    "def find_email(text):\n",
    "    reg_ex_email = re.compile(r'[A-Z a-z 0-9]+[\\._]?[a-z 0-9]+[@]\\w+[.]\\w{2,3}')\n",
    "    email = re.findall(reg_ex_email, text)\n",
    "    if email:\n",
    "        email_str = ''.join(email[0])\n",
    "        return email_str\n",
    "    else:\n",
    "        return None"
   ]
  },
  {
   "cell_type": "markdown",
   "id": "8498899b",
   "metadata": {},
   "source": [
    "## Extracting name of file"
   ]
  },
  {
   "cell_type": "code",
   "execution_count": 103,
   "id": "caad8367",
   "metadata": {},
   "outputs": [
    {
     "data": {
      "text/plain": [
       "'Bikrama Moharana'"
      ]
     },
     "execution_count": 103,
     "metadata": {},
     "output_type": "execute_result"
    }
   ],
   "source": [
    "path = \"D:\\\\Python Workspace\\\\Test_Resumes\\\\Bikrama Moharana.docx\" #add path of your resume\n",
    "name_of_file = path.split('\\\\')[-1].split('.')[0]\n",
    "name_of_file"
   ]
  },
  {
   "cell_type": "markdown",
   "id": "ebe922ca",
   "metadata": {},
   "source": [
    "**In the below three cells I am schecking whether the functions i have defined above are working properly or not**"
   ]
  },
  {
   "cell_type": "code",
   "execution_count": 104,
   "id": "382491b9",
   "metadata": {},
   "outputs": [
    {
     "name": "stdout",
     "output_type": "stream",
     "text": [
      "Bikrama Moharana\t\t\t\tMobile : 7787823811\n",
      "\n",
      "\t.Net Developer\t\t\t\t\tEmail\t: bikramamoharana333@gmail.com\n",
      "\n",
      "Experience Summary\n",
      "\n",
      "  Having 2.3 Years. Hands on professional experience in software Industries and to keep learning so as to sharpen and widen my knowledge and skill and deliver my best so as to add on to the reputation of the organization\n",
      "\n",
      "\n",
      "\n",
      "Technical Skills\n",
      "\n",
      "Programming Languages: C#.NET, HTML, CSS, JavaScript.\n",
      "\n",
      "\n",
      "\n",
      "Technologies: \n",
      "\n",
      ".Net Framework, MVC, ASP.NET, ADO.NET, LINQ, Entity Framework.\n",
      "\n",
      "Web Service\n",
      "\n",
      "\n",
      "\n",
      "\n",
      "\n",
      "Development Methodologies: Software Development Life Cycle (SDLC),\n",
      "\n",
      " Object-Oriented Programming (OOP), Agile Development.\n",
      "\n",
      "\n",
      "\n",
      "Databases: SQL server, Oracle\n",
      "\n",
      "\n",
      "\n",
      "Other Tools: Team Foundation Server (TFS)\n",
      "\n",
      "\n",
      "\n",
      "\n",
      "\n",
      "\n",
      "\n",
      "Education \n",
      "\n",
      "Bachelor in Computer Application (BCA) completed 2019.\n",
      "\n",
      "Higher Secondary Education (HSE) completed 2016.\n",
      "\n",
      "Board of Secondary Education (BSE) completed 2014. \n",
      "\n",
      "\n",
      "\n",
      "\n",
      "\n",
      "Professional Experience\n",
      "\n",
      "Project \n",
      "\n",
      "\n",
      "\n",
      "Company Name: Monsanto\n",
      "\n",
      "\t\t\t\t\t\t\t\tProject Name:  Data Mining Tool                                                            Feb 2020– Till date\n",
      "\n",
      "Client: Amri Hospital Administration.\n",
      "\n",
      "Project Description: The Data mining analysis tool utilized to properly analyze the exist health care data. Data mining is the process of discovering actionable information from large sets of data. Data mining uses mathematical analysis to derive patterns and trends that exist in data. Typically, these patterns cannot be discovered by traditional data exploration because the relationships are too complex or because there is too much data.\n",
      "\n",
      "\n",
      "\n",
      "\n",
      "\n",
      "\n",
      "\n",
      "\n",
      "\n",
      "\n",
      "\n",
      "Responsibilities:\n",
      "\n",
      "My responsibilities understanding the requirements from client.\n",
      "\n",
      "Involved in Software Development Life cycle starting from Requirements gathering\n",
      "\n",
      "Designed and developed web application in .NET framework \n",
      "\n",
      "Using C#.Net, CSS etc.\n",
      "\n",
      "Entity Framework.\n",
      "\n",
      "MS SQL stored procedures and functions.\n",
      "\n",
      "Source Control TFS.\n",
      "\n",
      "Involved in application build, Publish and Deployment.\n",
      "\n",
      "\n",
      "\n",
      "Environment: C#.Net, MVC, Web Service, SQL Server, Entity Framework, JavaScript / JQuery, Bootstrap.\n",
      "\n",
      "\n",
      "\n",
      "\n",
      "\n",
      "Personal Information\n",
      "\n",
      "\tGender\t:\t Male\n",
      "\n",
      "\tMarital Status          : \tSingle.\n",
      "\n",
      "\t\t\t\t\t\t\tDate of birth\t\t\t:\t23-mar-1999\t\n",
      "\n",
      "\tLanguages Known    :\tEnglish, Hindi and Oriya.\n",
      "\n",
      "\n",
      "\n",
      "\n",
      "\n",
      "2\n"
     ]
    }
   ],
   "source": [
    "path = \"D:\\\\Python Workspace\\\\Test_Resumes\\\\Bikrama Moharana.docx\"\n",
    "name_of_file = path.split('\\\\')[-1].split('.')[0]\n",
    "text = take_input(path)\n",
    "print(text)"
   ]
  },
  {
   "cell_type": "code",
   "execution_count": 105,
   "id": "20608bc4",
   "metadata": {},
   "outputs": [
    {
     "name": "stdout",
     "output_type": "stream",
     "text": [
      "['7787823811']\n",
      "7787823811\n"
     ]
    }
   ],
   "source": [
    "try:\n",
    "    phone = find_phone(text).split()\n",
    "except:\n",
    "    phone = find_phone(text)\n",
    "print(phone[0])"
   ]
  },
  {
   "cell_type": "code",
   "execution_count": 106,
   "id": "97248f8f",
   "metadata": {},
   "outputs": [
    {
     "name": "stdout",
     "output_type": "stream",
     "text": [
      " bikramamoharana333@gmail.com\n"
     ]
    }
   ],
   "source": [
    "email = find_email(text)\n",
    "print(email)"
   ]
  },
  {
   "cell_type": "markdown",
   "id": "3f5ecc35",
   "metadata": {},
   "source": [
    "## Removing phone number and email from resume"
   ]
  },
  {
   "cell_type": "code",
   "execution_count": 107,
   "id": "c142e6c4",
   "metadata": {},
   "outputs": [
    {
     "name": "stdout",
     "output_type": "stream",
     "text": [
      "[]\n",
      "Bikrama Moharana\t\t\t\t\n",
      "\n",
      "\t.Net Developer\t\t\t\t\t\t:\n",
      "\n",
      "Experience Summary\n",
      "\n",
      "  Having 2.3 Years. Hands on professional experience in software Industries and to keep learning so as to sharpen and widen my knowledge and skill and deliver my best so as to add on to the reputation of the organization\n",
      "\n",
      "\n",
      "\n",
      "Technical Skills\n",
      "\n",
      "Programming Languages: C#.NET, HTML, CSS, JavaScript.\n",
      "\n",
      "\n",
      "\n",
      "Technologies: \n",
      "\n",
      ".Net Framework, MVC, ASP.NET, ADO.NET, LINQ, Entity Framework.\n",
      "\n",
      "Web Service\n",
      "\n",
      "\n",
      "\n",
      "\n",
      "\n",
      "Development Methodologies: Software Development Life Cycle (SDLC),\n",
      "\n",
      " Object-Oriented Programming (OOP), Agile Development.\n",
      "\n",
      "\n",
      "\n",
      "Databases: SQL server, Oracle\n",
      "\n",
      "\n",
      "\n",
      "Other Tools: Team Foundation Server (TFS)\n",
      "\n",
      "\n",
      "\n",
      "\n",
      "\n",
      "\n",
      "\n",
      "Education \n",
      "\n",
      "Bachelor in Computer Application (BCA) completed 2019.\n",
      "\n",
      "Higher Secondary Education (HSE) completed 2016.\n",
      "\n",
      "Board of Secondary Education (BSE) completed 2014. \n",
      "\n",
      "\n",
      "\n",
      "\n",
      "\n",
      "Professional Experience\n",
      "\n",
      "Project \n",
      "\n",
      "\n",
      "\n",
      "Company Name: Monsanto\n",
      "\n",
      "\t\t\t\t\t\t\t\tProject Name:  Data Mining Tool                                                            Feb 2020– Till date\n",
      "\n",
      "Client: Amri Hospital Administration.\n",
      "\n",
      "Project Description: The Data mining analysis tool utilized to properly analyze the exist health care data. Data mining is the process of discovering actionable information from large sets of data. Data mining uses mathematical analysis to derive patterns and trends that exist in data. Typically, these patterns cannot be discovered by traditional data exploration because the relationships are too complex or because there is too much data.\n",
      "\n",
      "\n",
      "\n",
      "\n",
      "\n",
      "\n",
      "\n",
      "\n",
      "\n",
      "\n",
      "\n",
      "Responsibilities:\n",
      "\n",
      "My responsibilities understanding the requirements from client.\n",
      "\n",
      "Involved in Software Development Life cycle starting from Requirements gathering\n",
      "\n",
      "Designed and developed web application in .NET framework \n",
      "\n",
      "Using C#.Net, CSS etc.\n",
      "\n",
      "Entity Framework.\n",
      "\n",
      "MS SQL stored procedures and functions.\n",
      "\n",
      "Source Control TFS.\n",
      "\n",
      "Involved in application build, Publish and Deployment.\n",
      "\n",
      "\n",
      "\n",
      "Environment: C#.Net, MVC, Web Service, SQL Server, Entity Framework, JavaScript / JQuery, Bootstrap.\n",
      "\n",
      "\n",
      "\n",
      "\n",
      "\n",
      "Personal Information\n",
      "\n",
      "\tGender\t:\t Male\n",
      "\n",
      "\tMarital Status          : \tSingle.\n",
      "\n",
      "\t\t\t\t\t\t\tDate of birth\t\t\t:\t23-mar-1999\t\n",
      "\n",
      "\tLanguages Known    :\tEnglish, Hindi and Oriya.\n",
      "\n",
      "\n",
      "\n",
      "\n",
      "\n",
      "2\n"
     ]
    }
   ],
   "source": [
    "# reg1 = re.compile(r'(((Mobile|Phone)[\\s]?[:-]?[\\s]?|(mobile|phone)[\\s]?[:-]?[\\s]?|(MOBILE|PHONE)[\\s]?[:-]?[\\s]?(Contact No|Contact no|contact no|CONTACT NO|Contact number|Contact Number|CONTACT NUMBER|contact number)[\\s]?[:-]?[\\s]?))+')\n",
    "reg1 = re.compile(r'(((Mobile|Phone)[\\s]?[:-]?[\\s]?|(Mb|Ph)[\\s]?[:-]?[\\s]?|(mobile|phone)[\\s]?[:-]?[\\s]?|(MOBILE|PHONE)[\\s]?[:-]?[\\s]?|(Contact No|Contact no|contact no|CONTACT NO|Contact number|Contact Number|contact number|CONTACT NUMBER)[\\s]?[:-]?[\\s]?))+')\n",
    "reg3 = re.compile(r'(Email|email|EMAIL|E-Mail)[\\s]?[:-]?[\\s]?')\n",
    "reg2 = re.compile(r'\\+[0-9][{1,3}[\\s-]?')\n",
    "def remove_phone_email(reg1,reg2,reg3,text):\n",
    "    word = re.findall(reg1,text)\n",
    "    #print(word)\n",
    "    code = re.findall(reg2,text)\n",
    "    print(code)\n",
    "    email_word = re.findall(reg3,text)\n",
    "    text = text.replace(f\"{phone[0]}\",\"\")\n",
    "    try:\n",
    "        text = text.replace(f\"{word[0][0]}\",\"\")\n",
    "        text = text.replace(f\"{code[0]}\",\"\")\n",
    "        text = text.replace(f\"{phone[1]}\",\"\")\n",
    "    except:\n",
    "        text=text\n",
    "    text = text.replace(f\"{email}\",\"\")\n",
    "    try:\n",
    "        text = text.replace(f\"{email_word[0]}\",\"\")\n",
    "    except:\n",
    "        text=text\n",
    "    return text\n",
    "\n",
    "result = remove_phone_email(reg1, reg2, reg3, text)\n",
    "print(result)"
   ]
  },
  {
   "cell_type": "markdown",
   "id": "81116425",
   "metadata": {},
   "source": [
    "## Saving the modifications in pdf format "
   ]
  },
  {
   "cell_type": "code",
   "execution_count": 108,
   "id": "16030bd5",
   "metadata": {},
   "outputs": [
    {
     "data": {
      "text/plain": [
       "<aspose.words.saving.SaveOutputParameters object at 0x0000021E3BF3FFB0>"
      ]
     },
     "execution_count": 108,
     "metadata": {},
     "output_type": "execute_result"
    }
   ],
   "source": [
    "f = open(f\"{name_of_file}.txt\", \"a\", encoding='cp1252', errors='ignore')\n",
    "f.write(result)\n",
    "f.close()\n",
    "import aspose.words as aw\n",
    "\n",
    "# load TXT document\n",
    "doc = aw.Document(f\"{name_of_file}.txt\")\n",
    "\n",
    "# save TXT as PDF file\n",
    "doc.save(f\"{name_of_file}.pdf\", aw.SaveFormat.PDF)"
   ]
  },
  {
   "cell_type": "code",
   "execution_count": null,
   "id": "47982f60",
   "metadata": {},
   "outputs": [],
   "source": []
  }
 ],
 "metadata": {
  "kernelspec": {
   "display_name": "Python 3 (ipykernel)",
   "language": "python",
   "name": "python3"
  },
  "language_info": {
   "codemirror_mode": {
    "name": "ipython",
    "version": 3
   },
   "file_extension": ".py",
   "mimetype": "text/x-python",
   "name": "python",
   "nbconvert_exporter": "python",
   "pygments_lexer": "ipython3",
   "version": "3.9.8"
  }
 },
 "nbformat": 4,
 "nbformat_minor": 5
}

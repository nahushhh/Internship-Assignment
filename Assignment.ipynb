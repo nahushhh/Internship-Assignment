{
 "cells": [
  {
   "cell_type": "markdown",
   "id": "635fa977",
   "metadata": {},
   "source": [
    "## Necessary Imports\n"
   ]
  },
  {
   "cell_type": "code",
   "execution_count": 1,
   "id": "f954892e",
   "metadata": {},
   "outputs": [],
   "source": [
    "import os\n",
    "import docx2txt\n",
    "import re\n",
    "import win32com.client as win32\n",
    "from win32com.client import constants"
   ]
  },
  {
   "cell_type": "markdown",
   "id": "7be6f5c0",
   "metadata": {},
   "source": [
    "## Extracting text from file"
   ]
  },
  {
   "cell_type": "code",
   "execution_count": 2,
   "id": "47edf4c9",
   "metadata": {},
   "outputs": [],
   "source": [
    "def SaveAsDocx (path) :\n",
    "    #Opening MS Word\n",
    "    word = win32.gencache.EnsureDispatch('Word.Application')\n",
    "    doc = word.Documents.Open(path)\n",
    "    doc.Activate()\n",
    "    #Rename path with .docx\n",
    "    new_file_abs = os.path.abspath(path)\n",
    "    new_file_abs = re.sub(r'\\.\\w+$','.docx', new_file_abs)\n",
    "    #Save and Close\n",
    "    word.ActiveDocument.SaveAs (\n",
    "    new_file_abs , FileFormat = constants.wdFormatXMLDocument\n",
    "    )\n",
    "    doc.Close ( False )\n",
    "    print ('done')\n",
    "    return new_file_abs\n",
    "\n",
    "def take_input(path):\n",
    "    extension = path[-1:-5:-1][::-1]\n",
    "    if extension == 'docx':\n",
    "        docx_text = docx2txt.process(path)\n",
    "        return docx_text\n",
    "    elif extension == '.doc':\n",
    "        doc_to_docx_path = SaveAsDocx(path)\n",
    "        doc_text = docx2txt.process(doc_to_docx_path)\n",
    "        return doc_text\n",
    "    else:\n",
    "        return None"
   ]
  },
  {
   "cell_type": "markdown",
   "id": "08923d80",
   "metadata": {},
   "source": [
    "## Extracting Phone number"
   ]
  },
  {
   "cell_type": "code",
   "execution_count": 3,
   "id": "683353dd",
   "metadata": {},
   "outputs": [],
   "source": [
    "re1 = re.compile(r'\\(?\\d{3}\\)?[-.\\s]?\\d{3}[-.\\s]?\\d{4}') \n",
    "re2 = re.compile(r'\\(?\\d{3}\\)?\\(?\\d{3}\\)?\\(?\\d{4}\\)?')\n",
    "re3 = re.compile(r'(\\+[0-9]{1,3}[\\s]?\\-?[\\s]?[0-9]{10})')\n",
    "\n",
    "def find_phone(text):\n",
    "    re1 = re.compile(r'\\(?\\d{3}\\)?[-.\\s]?\\d{3}[-.\\s]?\\d{4}') \n",
    "    re2 = re.compile(r'\\(?\\d{3}\\)?\\(?\\d{3}\\)?\\(?\\d{4}\\)?')\n",
    "    re3 = re.compile(r'(\\+[0-9]{1,3}[\\s]?\\-?[\\s]?[0-9]{10})')\n",
    "    number1 = re.findall(re1, text)\n",
    "    #print(number1)\n",
    "    if number1 and len(number1)<=1:\n",
    "        phone_no = number1[0]\n",
    "        if text.find(phone_no):\n",
    "            return phone_no\n",
    "        else:\n",
    "            return None\n",
    "    else:\n",
    "        ph1 = number1[0]\n",
    "        ph2 = number1[1]\n",
    "        if text.find(ph1) and text.find(ph2):\n",
    "            return ph1, ph2\n",
    "        else:\n",
    "            return None\n",
    "    number2 = re.findall(re2, text)\n",
    "    #print(number2)\n",
    "    if number2 and len(number2)>1:\n",
    "        phone_no = number2[0]\n",
    "        \n",
    "        if text.find(phone_no):\n",
    "            return phone_no\n",
    "        else:\n",
    "            return None\n",
    "    else:\n",
    "        ph1 = number1[0]\n",
    "        ph2 = number1[1]\n",
    "        if text.find(ph1) and text.find(ph2):\n",
    "            return ph1, ph2\n",
    "        else:\n",
    "            return None\n",
    "        \n",
    "    number3 = re.findall(re3, text)\n",
    "    #print(number3)\n",
    "    if number3 and len(number3)>1:\n",
    "        phone_no = number3[0]\n",
    "        \n",
    "        if text.find(phone_no):\n",
    "            return phone_no\n",
    "        else:\n",
    "            return None\n",
    "    else:\n",
    "        ph1 = number1[0]\n",
    "        ph2 = number1[1]\n",
    "        if text.find(ph1) and text.find(ph2):\n",
    "            return ph1, ph2\n",
    "        else:\n",
    "            return None\n",
    "    "
   ]
  },
  {
   "cell_type": "markdown",
   "id": "d133b474",
   "metadata": {},
   "source": [
    "## Extracting Email"
   ]
  },
  {
   "cell_type": "code",
   "execution_count": 4,
   "id": "1e44fea5",
   "metadata": {},
   "outputs": [],
   "source": [
    "reg_ex_email = re.compile(r'[a-z 0-9]+[\\._]?[a-z 0-9]+[@]\\w+[.]\\w{2,3}')\n",
    "\n",
    "def find_email(text):\n",
    "    reg_ex_email = re.compile(r'[A-Z a-z 0-9]+[\\._]?[a-z 0-9]+[@]\\w+[.]\\w{2,3}')\n",
    "    email = re.findall(reg_ex_email, text)\n",
    "    if email:\n",
    "        email_str = ''.join(email[0])\n",
    "        return email_str\n",
    "    else:\n",
    "        return None"
   ]
  },
  {
   "cell_type": "markdown",
   "id": "d797c61b",
   "metadata": {},
   "source": [
    "## Extracting name of file"
   ]
  },
  {
   "cell_type": "code",
   "execution_count": 5,
   "id": "caad8367",
   "metadata": {},
   "outputs": [],
   "source": [
    "path = \"Bikrama Moharana.docx\" #add path of your resume\n",
    "name_of_file = path.split('\\\\')[-1].split('.')[0]\n",
    "name_of_file"
   ]
  },
  {
   "cell_type": "markdown",
   "id": "96306679",
   "metadata": {},
   "source": [
    "**In the below three cells I am checking whether the functions i have defined above are working properly or not**"
   ]
  },
  {
   "cell_type": "code",
   "execution_count": 6,
   "id": "382491b9",
   "metadata": {},
   "outputs": [],
   "source": [
    "path = \"Bikrama Moharana.docx\" #add path of your resume\n",
    "name_of_file = path.split('\\\\')[-1].split('.')[0]\n",
    "text = take_input(path)\n",
    "print(text)"
   ]
  },
  {
   "cell_type": "code",
   "execution_count": 7,
   "id": "20608bc4",
   "metadata": {},
   "outputs": [],
   "source": [
    "try:\n",
    "    phone = find_phone(text).split()\n",
    "except:\n",
    "    phone = find_phone(text)\n",
    "print(phone[0])"
   ]
  },
  {
   "cell_type": "code",
   "execution_count": 8,
   "id": "97248f8f",
   "metadata": {},
   "outputs": [],
   "source": [
    "email = find_email(text)\n",
    "print(email)"
   ]
  },
  {
   "cell_type": "markdown",
   "id": "68da51b2",
   "metadata": {},
   "source": [
    "## Removing phone number and email from resume"
   ]
  },
  {
   "cell_type": "code",
   "execution_count": 9,
   "id": "c142e6c4",
   "metadata": {},
   "outputs": [
    {
     "name": "stdout",
     "output_type": "stream",
     "text": [
      "[]\n"
     ]
    }
   ],
   "source": [
    "# reg1 = re.compile(r'(((Mobile|Phone)[\\s]?[:-]?[\\s]?|(mobile|phone)[\\s]?[:-]?[\\s]?|(MOBILE|PHONE)[\\s]?[:-]?[\\s]?(Contact No|Contact no|contact no|CONTACT NO|Contact number|Contact Number|CONTACT NUMBER|contact number)[\\s]?[:-]?[\\s]?))+')\n",
    "reg1 = re.compile(r'(((Mobile|Phone)[\\s]?[:-]?[\\s]?|(Mb|Ph)[\\s]?[:-]?[\\s]?|(mobile|phone)[\\s]?[:-]?[\\s]?|(MOBILE|PHONE)[\\s]?[:-]?[\\s]?|(Contact No|Contact no|contact no|CONTACT NO|Contact number|Contact Number|contact number|CONTACT NUMBER)[\\s]?[:-]?[\\s]?))+')\n",
    "reg3 = re.compile(r'(Email|email|EMAIL|E-Mail)[\\s]?[:-]?[\\s]?')\n",
    "reg2 = re.compile(r'\\+[0-9][{1,3}[\\s-]?')\n",
    "def remove_phone_email(reg1,reg2,reg3,text):\n",
    "    word = re.findall(reg1,text)\n",
    "    #print(word)\n",
    "    code = re.findall(reg2,text)\n",
    "    print(code)\n",
    "    email_word = re.findall(reg3,text)\n",
    "    text = text.replace(f\"{phone[0]}\",\"\")\n",
    "    try:\n",
    "        text = text.replace(f\"{word[0][0]}\",\"\")\n",
    "        text = text.replace(f\"{code[0]}\",\"\")\n",
    "        text = text.replace(f\"{phone[1]}\",\"\")\n",
    "    except:\n",
    "        text=text\n",
    "    text = text.replace(f\"{email}\",\"\")\n",
    "    try:\n",
    "        text = text.replace(f\"{email_word[0]}\",\"\")\n",
    "    except:\n",
    "        text=text\n",
    "    return text\n",
    "\n",
    "result = remove_phone_email(reg1, reg2, reg3, text)\n",
    "print(result)"
   ]
  },
  {
   "cell_type": "markdown",
   "id": "a8360986",
   "metadata": {},
   "source": [
    "## Saving the modifications in pdf format "
   ]
  },
  {
   "cell_type": "code",
   "execution_count": 10,
   "id": "16030bd5",
   "metadata": {},
   "outputs": [
    {
     "data": {
      "text/plain": [
       "<aspose.words.saving.SaveOutputParameters object at 0x0000023E49275130>"
      ]
     },
     "execution_count": 10,
     "metadata": {},
     "output_type": "execute_result"
    }
   ],
   "source": [
    "f = open(f\"{name_of_file}.txt\", \"a\", encoding='cp1252', errors='ignore')\n",
    "f.write(result)\n",
    "f.close()\n",
    "import aspose.words as aw\n",
    "\n",
    "# load TXT document\n",
    "doc = aw.Document(f\"{name_of_file}.txt\")\n",
    "\n",
    "# save TXT as PDF file\n",
    "doc.save(f\"{name_of_file}.pdf\", aw.SaveFormat.PDF)"
   ]
  },
  {
   "cell_type": "code",
   "execution_count": null,
   "id": "47982f60",
   "metadata": {},
   "outputs": [],
   "source": []
  }
 ],
 "metadata": {
  "kernelspec": {
   "display_name": "Python 3 (ipykernel)",
   "language": "python",
   "name": "python3"
  },
  "language_info": {
   "codemirror_mode": {
    "name": "ipython",
    "version": 3
   },
   "file_extension": ".py",
   "mimetype": "text/x-python",
   "name": "python",
   "nbconvert_exporter": "python",
   "pygments_lexer": "ipython3",
   "version": "3.9.8"
  }
 },
 "nbformat": 4,
 "nbformat_minor": 5
}
